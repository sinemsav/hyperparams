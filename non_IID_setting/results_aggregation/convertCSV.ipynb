{
 "cells": [
  {
   "cell_type": "code",
   "execution_count": 3,
   "metadata": {},
   "outputs": [
    {
     "name": "stdout",
     "output_type": "stream",
     "text": [
      "cifar10_label_skew_0.1_10clients.csv\n"
     ]
    }
   ],
   "source": [
    "import numpy\n",
    "import pandas as pd\n",
    "#params set\n",
    "skewtype = 'label_skew'\n",
    "skewParam = '0.1'\n",
    "dataset = 'mnist'\n",
    "# nrparties = '10clients'\n",
    "clients=10\n",
    "fileToRead_fedSearch = 'fed_grid_search_results/'+dataset+'_'+skewtype+'_'+skewParam+'_'+str(clients)+'clients'+'.txt'\n",
    "fileToWrite = dataset+'_'+skewtype+'_'+skewParam+'_'+str(clients)+'clients'+'.csv'\n",
    "print(fileToWrite)\n",
    "column_names = [\"fedAvgFlag\", \"clientID\", \"client_lr\",\"client_mom\", \"batch_size\",\"server_lr\",\"server_mom\",\"loss\",\"accuracy\"]\n",
    "\n",
    "df = pd.DataFrame(columns = column_names)\n",
    "\n",
    "# file = numpy.loadtxt('fed_grid_search_results/cifar10_feature_skew_0.1_10clients.txt',dtype={'names': ('act_fn', 'client_lr', 'server_lr','client_momentum','server_momentum','batch_size','epochs_per_round','rounds','runs','skew')}\n",
    "# Using readline()\n",
    "file1 = open(fileToRead_fedSearch, 'r')\n",
    "count = 0\n",
    " \n",
    "while True:\n",
    "    count += 1\n",
    "    # Get next line from file\n",
    "    line = file1.readline()\n",
    " \n",
    "    # if line is empty\n",
    "    # end of file is reached\n",
    "    if not line:\n",
    "        break\n",
    "#     print(\"Line{}: {}\".format(count, line.strip()))\n",
    "    line = line.replace(\",\", \"\")\n",
    "    line = line[1:].split()\n",
    "    lineToWrite = [1,-1,line[4],line[8],line[12],line[6],line[10],-1,line[0]]\n",
    "    df_length = len(df)\n",
    "    df.loc[df_length] = lineToWrite \n",
    "file1.close()\n"
   ]
  },
  {
   "cell_type": "code",
   "execution_count": 7,
   "metadata": {},
   "outputs": [
    {
     "name": "stdout",
     "output_type": "stream",
     "text": [
      "non-IID_res/label_skew/CIFAR10_non-IID_label_skew/10_parties/individual/0.1/0.1_label_10clts_clt0.txt\n",
      "non-IID_res/label_skew/CIFAR10_non-IID_label_skew/10_parties/individual/0.1/0.1_label_10clts_clt1.txt\n",
      "non-IID_res/label_skew/CIFAR10_non-IID_label_skew/10_parties/individual/0.1/0.1_label_10clts_clt2.txt\n",
      "non-IID_res/label_skew/CIFAR10_non-IID_label_skew/10_parties/individual/0.1/0.1_label_10clts_clt3.txt\n",
      "non-IID_res/label_skew/CIFAR10_non-IID_label_skew/10_parties/individual/0.1/0.1_label_10clts_clt4.txt\n",
      "non-IID_res/label_skew/CIFAR10_non-IID_label_skew/10_parties/individual/0.1/0.1_label_10clts_clt5.txt\n",
      "non-IID_res/label_skew/CIFAR10_non-IID_label_skew/10_parties/individual/0.1/0.1_label_10clts_clt6.txt\n",
      "non-IID_res/label_skew/CIFAR10_non-IID_label_skew/10_parties/individual/0.1/0.1_label_10clts_clt7.txt\n",
      "non-IID_res/label_skew/CIFAR10_non-IID_label_skew/10_parties/individual/0.1/0.1_label_10clts_clt8.txt\n",
      "non-IID_res/label_skew/CIFAR10_non-IID_label_skew/10_parties/individual/0.1/0.1_label_10clts_clt9.txt\n"
     ]
    }
   ],
   "source": [
    "#read individual search files\n",
    "for i in range(clients):\n",
    "    fileToReadC = 'non-IID_res/'+skewtype+'/'+dataset.upper()+'_non-IID_'+skewtype+'/'+str(clients)+'_parties/individual/'+skewParam+'/'+skewParam+'_'+ skewtype.split('_')[0]+ '_'+ str(clients)+'clts_clt'+str(i)+'.txt'\n",
    "    print(fileToReadC)\n",
    "\n",
    "    file1 = open(fileToReadC, 'r')\n",
    "    count = 0\n",
    "    #skip first line\n",
    "    line = file1.readline()\n",
    "    while True:\n",
    "        count += 1\n",
    "        # Get next line from file\n",
    "        line = file1.readline()\n",
    "\n",
    "        # if line is empty\n",
    "        # end of file is reached\n",
    "        if not line:\n",
    "            break\n",
    "#         print(\"Line{}: {}\".format(count, line.strip()))\n",
    "        line = line.split(',')\n",
    "#         print(line)\n",
    "        lineToWrite = [0,i+1,line[15],line[16],line[14],0,0,line[5],line[6]]\n",
    "        df_length = len(df)\n",
    "        df.loc[df_length] = lineToWrite \n",
    "    file1.close()\n",
    "df.to_csv(fileToWrite)  "
   ]
  },
  {
   "cell_type": "code",
   "execution_count": 6,
   "metadata": {},
   "outputs": [
    {
     "data": {
      "text/plain": [
       "'label'"
      ]
     },
     "execution_count": 6,
     "metadata": {},
     "output_type": "execute_result"
    }
   ],
   "source": []
  },
  {
   "cell_type": "code",
   "execution_count": null,
   "metadata": {},
   "outputs": [],
   "source": []
  },
  {
   "cell_type": "code",
   "execution_count": null,
   "metadata": {},
   "outputs": [],
   "source": []
  }
 ],
 "metadata": {
  "kernelspec": {
   "display_name": "Python 3.6 (tensorflow)",
   "language": "python",
   "name": "tensorflow"
  },
  "language_info": {
   "codemirror_mode": {
    "name": "ipython",
    "version": 3
   },
   "file_extension": ".py",
   "mimetype": "text/x-python",
   "name": "python",
   "nbconvert_exporter": "python",
   "pygments_lexer": "ipython3",
   "version": "3.7.9"
  }
 },
 "nbformat": 4,
 "nbformat_minor": 4
}
