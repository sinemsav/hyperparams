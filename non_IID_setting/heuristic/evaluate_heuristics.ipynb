{
 "cells": [
  {
   "cell_type": "code",
   "execution_count": 1,
   "id": "2dbb8704",
   "metadata": {
    "jupyter": {
     "outputs_hidden": false
    },
    "pycharm": {
     "name": "#%%\n"
    }
   },
   "outputs": [],
   "source": [
    "%load_ext autoreload\n",
    "%autoreload 2"
   ]
  },
  {
   "cell_type": "code",
   "execution_count": 3,
   "id": "monthly-istanbul",
   "metadata": {},
   "outputs": [
    {
     "name": "stderr",
     "output_type": "stream",
     "text": [
      "2022-02-07 23:15:21.461227: W tensorflow/stream_executor/platform/default/dso_loader.cc:64] Could not load dynamic library 'libcudart.so.11.0'; dlerror: libcudart.so.11.0: cannot open shared object file: No such file or directory\n"
     ]
    }
   ],
   "source": [
    "import os\n",
    "import json\n",
    "from datetime import datetime\n",
    "from collections import defaultdict\n",
    "import sys\n",
    "sys.path.append(\"..\")\n",
    "\n",
    "import jax\n",
    "\n",
    "from federated_library.distributions import convert_to_federated_data\n",
    "from federated_library.dataset_loader import load_tf_dataset\n",
    "from federated_library.train_fed_avg import fed_avg_gridsearch\n",
    "from heuristic.read_data import get_local_res, get_federated_val_acc\n",
    "from heuristic.heuristic_funcs import aggregate_results\n",
    "from constants import SKEWS, DATASETS, NR_PARTIES\n",
    "\n",
    "HEUR_VERSIONS = [1, 2, 3]"
   ]
  },
  {
   "cell_type": "code",
   "execution_count": null,
   "id": "important-toddler",
   "metadata": {},
   "outputs": [],
   "source": [
    "# Evaluate heuristic performance\n",
    "\n",
    "# NR_EVALUATIONS = DATASETS x SKEW_TYPES x NR_CLIENTS x SKEW\n",
    "\n",
    "for dataset_name in DATASETS:\n",
    "    for skew_type in SKEWS.keys():\n",
    "        print(f\"DATASET: {dataset_name}, SKEW_TYPE: {skew_type}\")\n",
    "        ds, (x_test, y_test), ds_info = load_tf_dataset(\n",
    "            dataset_name=dataset_name,\n",
    "            skew_type=skew_type,\n",
    "            decentralized=False,\n",
    "            display=False\n",
    "        )\n",
    "\n",
    "        test_split = convert_to_federated_data(\n",
    "            x_test, y_test, ds_info, is_train=False)\n",
    "\n",
    "        hp_configs = dict(\n",
    "            act_fn=[jax.nn.relu],\n",
    "            client_lr=[0.01],\n",
    "            client_momentum=[0.01],\n",
    "            epochs_per_round=[2],\n",
    "            rounds=[30],\n",
    "            runs=[1]\n",
    "        )\n",
    "\n",
    "        heur_results = defaultdict(list)\n",
    "\n",
    "        for nr_clients in NR_PARTIES:\n",
    "            ds_info['num_clients'] = nr_clients\n",
    "            for skew in SKEWS[skew_type]:\n",
    "                print(f\"{nr_clients} clients, skew={skew}\")\n",
    "                hp_configs['skew'] = [skew]\n",
    "\n",
    "                hps, accs, best_acc, ratios = get_local_res(\n",
    "                    dataset_name, skew, nr_clients, skew_type\n",
    "                )\n",
    "\n",
    "                agg_hp_configs = {\n",
    "                    v: aggregate_results(\n",
    "                        hps, accs, ratios,\n",
    "                        type_of_skew=skew_type, v=v) for v in HEUR_VERSIONS\n",
    "                }\n",
    "\n",
    "                for v in HEUR_VERSIONS:\n",
    "                    for hp, value in agg_hp_configs[v].items():\n",
    "                        hp_configs[hp] = [value]\n",
    "\n",
    "                    heur_acc, hp_setting = fed_avg_gridsearch(\n",
    "                        hp_configs, ds, test_split, ds_info, display=False\n",
    "                    )[0]\n",
    "\n",
    "                    fedavg_acc = get_federated_val_acc(\n",
    "                        dataset_name, skew, nr_clients, skew_type)\n",
    "\n",
    "                    heur_results[v].append(dict({\n",
    "                        **hp_setting,\n",
    "                        **{\"heur_acc\": heur_acc,\n",
    "                           \"fedavg_acc\": fedavg_acc,\n",
    "                           \"dataset\": dataset_name,\n",
    "                           \"nr_clients\": nr_clients,\n",
    "                           \"skew_type\": skew_type\n",
    "                           }\n",
    "                    }))\n",
    "\n",
    "                    print(f\"v{v}\", heur_results[v][-1])\n",
    "\n",
    "    if not os.path.exists(f\"heur_results/\"):\n",
    "        os.mkdir(f\"heur_results/\")\n",
    "\n",
    "    file_name = (f\"heur_results/heur_{dataset_name}_{datetime.now()}.json\")\n",
    "\n",
    "    # Save heuristic results\n",
    "    with open(file_name, 'w') as outfile:\n",
    "        json.dump(heur_results, outfile)"
   ]
  }
 ],
 "metadata": {
  "interpreter": {
   "hash": "9bd034044bc82ac8c5d86c6c1f60b660a951d88d9f92616ab791d10eceb544fc"
  },
  "kernelspec": {
   "display_name": "sp_venv",
   "language": "python",
   "name": "python3"
  },
  "language_info": {
   "codemirror_mode": {
    "name": "ipython",
    "version": 3
   },
   "file_extension": ".py",
   "mimetype": "text/x-python",
   "name": "python",
   "nbconvert_exporter": "python",
   "pygments_lexer": "ipython3",
   "version": "3.9.7"
  }
 },
 "nbformat": 4,
 "nbformat_minor": 5
}
