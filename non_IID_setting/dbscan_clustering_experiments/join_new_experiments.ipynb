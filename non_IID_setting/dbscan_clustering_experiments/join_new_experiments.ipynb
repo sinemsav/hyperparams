{
 "cells": [
  {
   "cell_type": "code",
   "execution_count": 1,
   "metadata": {},
   "outputs": [],
   "source": [
    "import sys\n",
    "sys.path.append('../../')\n",
    "\n",
    "import pandas as pd\n",
    "from constants import SKEWS\n",
    "\n",
    "DATASETS = ['cifar10']                       # datasets to be added/combined\n",
    "SKEW_TYPES = ['qty']                         # skew types of new data\n",
    "NR_CLIENTS = [10,20]\n",
    "\n",
    "CSV_FOLDER = \"experiments/original_data\"               # contains all (original) .csv files for different datasets/skews\n",
    "TXT_FOLDER = \"experiments/extended_data_txt/txt\"       # contains all new experiments that need merging (.txt files) into existing csvs\n",
    "JOIN_FOLDER = \"experiments/extended_data_txt/csv\"      # folder where the result of (only) merging will be exported (as .csv files)\n",
    "\n",
    "COLUMN_NAMES = [\"fedAvgFlag\", \"clientID\", \"client_lr\",\"client_mom\", \"batch_size\",\"server_lr\",\"server_mom\",\"loss\",\"accuracy\"]"
   ]
  },
  {
   "cell_type": "code",
   "execution_count": 2,
   "metadata": {},
   "outputs": [
    {
     "name": "stdout",
     "output_type": "stream",
     "text": [
      "DATASET: cifar10, SKEW_TYPE: qty, SKEW_PARAM: 0.1\n",
      "DATASET: cifar10, SKEW_TYPE: qty, SKEW_PARAM: 0.1\n",
      "DATASET: cifar10, SKEW_TYPE: qty, SKEW_PARAM: 0.4\n",
      "DATASET: cifar10, SKEW_TYPE: qty, SKEW_PARAM: 0.4\n",
      "DATASET: cifar10, SKEW_TYPE: qty, SKEW_PARAM: 1.0\n",
      "DATASET: cifar10, SKEW_TYPE: qty, SKEW_PARAM: 1.0\n",
      "DATASET: cifar10, SKEW_TYPE: qty, SKEW_PARAM: 2.0\n",
      "DATASET: cifar10, SKEW_TYPE: qty, SKEW_PARAM: 2.0\n"
     ]
    }
   ],
   "source": [
    "for dataset_name in DATASETS:\n",
    "    for skew_type in SKEW_TYPES:\n",
    "        for skew_param in SKEWS[skew_type]:\n",
    "            for nr_clients in NR_CLIENTS:\n",
    "                print(f\"DATASET: {dataset_name}, SKEW_TYPE: {skew_type}, SKEW_PARAM: {skew_param}\")\n",
    "            \n",
    "                file_to_write = f'{JOIN_FOLDER}/{dataset_name}_{skew_type}_skew_{skew_param}_{nr_clients}clients.csv'\n",
    "                df = pd.read_csv(f'{CSV_FOLDER}/{dataset_name}_{skew_type}_skew_{skew_param}_{nr_clients}clients.csv')\n",
    "                \n",
    "                #read individual local txt experiments\n",
    "                for i in range(nr_clients):\n",
    "                    dataset_upper = dataset_name.upper()\n",
    "                    txt_to_read = f'{TXT_FOLDER}/{skew_type}_skew/{dataset_upper}_non-IID_{skew_type}_skew/{nr_clients}_parties/individual/{skew_param}/{skew_param}_{skew_type}_{nr_clients}clts_clt{i}.txt'\n",
    "                    \n",
    "                    file1 = open(txt_to_read, 'r')\n",
    "                    line = file1.readline() # skip first line\n",
    "\n",
    "                    while True:\n",
    "                        # Get next line from file\n",
    "                        line = file1.readline()\n",
    "                        if not line:\n",
    "                            break\n",
    "\n",
    "                        line = line.split(',')\n",
    "                        \n",
    "                        # loss - 5, accuracy - 6, client_lr - 14, client_momentum - 15, batch_size - 16\n",
    "                        lineToWrite = [[0,i+1,line[14],line[15],line[16],0,0,line[5],line[6]]]\n",
    "                        local_df = pd.DataFrame(lineToWrite, columns=COLUMN_NAMES)\n",
    "                        \n",
    "                        df = pd.concat([df, local_df], ignore_index=True)\n",
    "\n",
    "                    file1.close()\n",
    "                df.to_csv(file_to_write, columns=COLUMN_NAMES)  \n"
   ]
  }
 ],
 "metadata": {
  "kernelspec": {
   "display_name": "Python 3 (ipykernel)",
   "language": "python",
   "name": "python3"
  },
  "language_info": {
   "codemirror_mode": {
    "name": "ipython",
    "version": 3
   },
   "file_extension": ".py",
   "mimetype": "text/x-python",
   "name": "python",
   "nbconvert_exporter": "python",
   "pygments_lexer": "ipython3",
   "version": "3.11.5"
  },
  "vscode": {
   "interpreter": {
    "hash": "c47c48b6fbb6f4536dd134719c3736c8e373e785a0d100db469575203b76d9e3"
   }
  }
 },
 "nbformat": 4,
 "nbformat_minor": 4
}
