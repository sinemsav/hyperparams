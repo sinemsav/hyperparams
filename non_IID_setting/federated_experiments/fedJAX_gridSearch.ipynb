{
 "cells": [
  {
   "cell_type": "code",
   "execution_count": null,
   "id": "monthly-istanbul",
   "metadata": {
    "scrolled": false
   },
   "outputs": [],
   "source": [
    "import os\n",
    "from copy import deepcopy\n",
    "import jax\n",
    "import sys\n",
    "sys.path.append(\"..\")\n",
    "\n",
    "from federated_library.distributions import convert_to_federated_data\n",
    "from federated_library.dataset_loader import load_tf_dataset\n",
    "from federated_library.train_fed_avg import fed_avg_gridsearch\n",
    "from constants import SKEWS, DATASETS, HP_GRID, NR_PARTIES"
   ]
  },
  {
   "cell_type": "code",
   "execution_count": null,
   "id": "c9b852bc",
   "metadata": {},
   "outputs": [],
   "source": [
    "print(jax.local_devices())"
   ]
  },
  {
   "cell_type": "code",
   "execution_count": null,
   "id": "important-toddler",
   "metadata": {},
   "outputs": [],
   "source": [
    "def run(params, ds, test_split, ds_info, display):\n",
    "    clients_set = params['clients_set']\n",
    "    skews_set = params['skews_set']\n",
    "\n",
    "    params = deepcopy(params)\n",
    "    del params['clients_set']\n",
    "    del params['skews_set']\n",
    "\n",
    "    for nr_clients in clients_set:\n",
    "        ds_info['num_clients'] = nr_clients\n",
    "        for skew in skews_set:\n",
    "            print(f\"{nr_clients} clients, skew={skew}\")\n",
    "            params['skew'] = [skew]\n",
    "            fedavg_hyperparams_grid_search_res = fed_avg_gridsearch(\n",
    "                params, ds, test_split, ds_info, display=display\n",
    "            )\n",
    "\n",
    "            sorted_res = sorted(fedavg_hyperparams_grid_search_res,\n",
    "                                key=lambda e: e[0], reverse=True)\n",
    "\n",
    "            if not os.path.exists(\"results/\"):\n",
    "                os.makedirs(\"results/\")\n",
    "\n",
    "            file_name = f\"results/{dataset_name}_{skew_type}_skew_{skew}_{nr_clients}clients.txt\"\n",
    "            print(file_name)\n",
    "            textfile = open(file_name, \"w\")\n",
    "            for line in sorted_res:\n",
    "                textfile.write(str(line) + \"\\n\")\n",
    "            textfile.close()"
   ]
  },
  {
   "cell_type": "code",
   "execution_count": null,
   "id": "aggressive-wholesale",
   "metadata": {
    "scrolled": true
   },
   "outputs": [],
   "source": [
    "for dataset_name in DATASETS:\n",
    "    for skew_type in SKEWS.keys():\n",
    "        print(f\"DATASET: {dataset_name}, SKEW_TYPE: {skew_type}\")\n",
    "        ds, (x_test, y_test), ds_info = load_tf_dataset(\n",
    "            dataset_name=dataset_name, skew_type=skew_type,\n",
    "            decentralized=False, display=False\n",
    "        )\n",
    "\n",
    "        test_split = convert_to_federated_data(x_test, y_test, ds_info,\n",
    "                                               is_train=False)\n",
    "\n",
    "        hp_configs = dict(\n",
    "            act_fn=[jax.nn.relu],\n",
    "            client_lr=[0.01],\n",
    "            server_lr=HP_GRID[\"lr\"],\n",
    "            client_momentum=[0.01],\n",
    "            server_momentum=HP_GRID[\"mom\"],\n",
    "            batch_size=HP_GRID[\"bs\"],\n",
    "            epochs_per_round=[2],\n",
    "            rounds=[30],\n",
    "            runs=[1],\n",
    "            clients_set=NR_PARTIES,\n",
    "            skews_set=SKEWS[skew_type]\n",
    "        )\n",
    "\n",
    "        run(hp_configs, ds, test_split, ds_info, display=True)"
   ]
  }
 ],
 "metadata": {
  "kernelspec": {
   "display_name": "Python 3",
   "language": "python",
   "name": "python3"
  },
  "language_info": {
   "codemirror_mode": {
    "name": "ipython",
    "version": 3
   },
   "file_extension": ".py",
   "mimetype": "text/x-python",
   "name": "python",
   "nbconvert_exporter": "python",
   "pygments_lexer": "ipython3",
   "version": "3.9.7"
  }
 },
 "nbformat": 4,
 "nbformat_minor": 5
}
